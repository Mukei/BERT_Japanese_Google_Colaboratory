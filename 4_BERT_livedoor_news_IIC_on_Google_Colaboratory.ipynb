{
  "nbformat": 4,
  "nbformat_minor": 0,
  "metadata": {
    "accelerator": "GPU",
    "colab": {
      "name": "3_BERT_livedoor_news_IIC_on_Google_Colaboratory.ipynb",
      "provenance": [],
      "collapsed_sections": []
    },
    "kernelspec": {
      "display_name": "Python 3",
      "language": "python",
      "name": "python3"
    },
    "language_info": {
      "codemirror_mode": {
        "name": "ipython",
        "version": 3
      },
      "file_extension": ".py",
      "mimetype": "text/x-python",
      "name": "python",
      "nbconvert_exporter": "python",
      "pygments_lexer": "ipython3",
      "version": "3.7.6"
    }
  },
  "cells": [
    {
      "cell_type": "markdown",
      "metadata": {
        "colab_type": "text",
        "id": "VYlVm0kpjx57"
      },
      "source": [
        "## 日本語BERTでlivedoorニュースを相互情報量最大化(IIC)でクラスタリング"
      ]
    },
    {
      "cell_type": "code",
      "metadata": {
        "colab_type": "code",
        "id": "IqIW6ar2Bm3J",
        "outputId": "526521be-8061-4c6c-d5d1-10ad45d86c58",
        "colab": {
          "base_uri": "https://localhost:8080/",
          "height": 34
        }
      },
      "source": [
        "# 乱数シードの固定\n",
        "\n",
        "import os\n",
        "import random\n",
        "import numpy as np\n",
        "import torch\n",
        "\n",
        "SEED_VALUE = 1234  # これはなんでも良い\n",
        "os.environ['PYTHONHASHSEED'] = str(SEED_VALUE)\n",
        "random.seed(SEED_VALUE)\n",
        "np.random.seed(SEED_VALUE)\n",
        "torch.manual_seed(SEED_VALUE)  # PyTorchを使う場合\n"
      ],
      "execution_count": 1,
      "outputs": [
        {
          "output_type": "execute_result",
          "data": {
            "text/plain": [
              "<torch._C.Generator at 0x7f60be5745b0>"
            ]
          },
          "metadata": {
            "tags": []
          },
          "execution_count": 1
        }
      ]
    },
    {
      "cell_type": "markdown",
      "metadata": {
        "colab_type": "text",
        "id": "Ii-mqaAhCApI"
      },
      "source": [
        "### GPUの使用可能を確認\n",
        "\n",
        "画面上部のメニュー ランタイム > ランタイムのタイプを変更 で、 ノートブックの設定 を開く\n",
        "\n",
        "ハードウェアアクセラレータに GPU を選択し、 保存 する"
      ]
    },
    {
      "cell_type": "code",
      "metadata": {
        "colab_type": "code",
        "id": "W8TJgawCB_Nb",
        "outputId": "3a98d9ec-180c-4010-bb1f-562570b05e73",
        "colab": {
          "base_uri": "https://localhost:8080/",
          "height": 34
        }
      },
      "source": [
        "# GPUの使用確認：True or False\n",
        "torch.cuda.is_available()\n",
        "\n",
        "# TrueならGPU使用可能"
      ],
      "execution_count": 2,
      "outputs": [
        {
          "output_type": "execute_result",
          "data": {
            "text/plain": [
              "True"
            ]
          },
          "metadata": {
            "tags": []
          },
          "execution_count": 2
        }
      ]
    },
    {
      "cell_type": "markdown",
      "metadata": {
        "colab_type": "text",
        "id": "gc6dbVUfj1W-"
      },
      "source": [
        "## 準備1：livedoorニュースをダウンロードして、PyTorchのDataLoaderに変換\n"
      ]
    },
    {
      "cell_type": "code",
      "metadata": {
        "colab_type": "code",
        "id": "8Vh0a49Gp-rS",
        "outputId": "839cbe85-476a-40de-8656-7e74275a6a9c",
        "colab": {
          "base_uri": "https://localhost:8080/",
          "height": 209
        }
      },
      "source": [
        "# Livedoorニュースのファイルをダウンロード\n",
        "! wget \"https://www.rondhuit.com/download/ldcc-20140209.tar.gz\""
      ],
      "execution_count": 3,
      "outputs": [
        {
          "output_type": "stream",
          "text": [
            "--2020-05-21 03:05:54--  https://www.rondhuit.com/download/ldcc-20140209.tar.gz\n",
            "Resolving www.rondhuit.com (www.rondhuit.com)... 59.106.19.174\n",
            "Connecting to www.rondhuit.com (www.rondhuit.com)|59.106.19.174|:443... connected.\n",
            "HTTP request sent, awaiting response... 200 OK\n",
            "Length: 8855190 (8.4M) [application/x-gzip]\n",
            "Saving to: ‘ldcc-20140209.tar.gz.3’\n",
            "\n",
            "ldcc-20140209.tar.g 100%[===================>]   8.44M  3.37MB/s    in 2.5s    \n",
            "\n",
            "2020-05-21 03:05:58 (3.37 MB/s) - ‘ldcc-20140209.tar.gz.3’ saved [8855190/8855190]\n",
            "\n"
          ],
          "name": "stdout"
        }
      ]
    },
    {
      "cell_type": "code",
      "metadata": {
        "colab_type": "code",
        "id": "keY2WGdwjzLD",
        "colab": {
          "base_uri": "https://localhost:8080/",
          "height": 69
        },
        "outputId": "6faaf328-c29f-4dbe-8fb3-f4502d094b49"
      },
      "source": [
        "# ファイルを解凍し、カテゴリー数と内容を確認\n",
        "import tarfile\n",
        "import os\n",
        "\n",
        "# 解凍\n",
        "tar = tarfile.open(\"ldcc-20140209.tar.gz\", \"r:gz\")\n",
        "tar.extractall(\"./data/livedoor/\")\n",
        "tar.close()\n",
        "\n",
        "# フォルダのファイルとディレクトリを確認\n",
        "files_folders = [name for name in os.listdir(\"./data/livedoor/text/\")]\n",
        "print(files_folders)\n",
        "\n",
        "# カテゴリーのフォルダのみを抽出\n",
        "categories = [name for name in os.listdir(\n",
        "    \"./data/livedoor/text/\") if os.path.isdir(\"./data/livedoor/text/\"+name)]\n",
        "\n",
        "print(\"カテゴリー数:\", len(categories))\n",
        "print(categories)\n"
      ],
      "execution_count": 4,
      "outputs": [
        {
          "output_type": "stream",
          "text": [
            "['sports-watch', 'README.txt', 'dokujo-tsushin', 'livedoor-homme', 'peachy', 'smax', 'movie-enter', 'CHANGES.txt', 'it-life-hack', 'kaden-channel', 'topic-news']\n",
            "カテゴリー数: 9\n",
            "['sports-watch', 'dokujo-tsushin', 'livedoor-homme', 'peachy', 'smax', 'movie-enter', 'it-life-hack', 'kaden-channel', 'topic-news']\n"
          ],
          "name": "stdout"
        }
      ]
    },
    {
      "cell_type": "code",
      "metadata": {
        "id": "A9BPGnm4mJua",
        "colab_type": "code",
        "colab": {}
      },
      "source": [
        "# 本文を取得する前処理関数を定義\n",
        "\n",
        "\n",
        "def extract_main_txt(file_name):\n",
        "    with open(file_name) as text_file:\n",
        "        # 今回はタイトル行は外したいので、3要素目以降の本文のみ使用\n",
        "        text = text_file.readlines()[3:]\n",
        "\n",
        "        # 3要素目以降にも本文が入っている場合があるので、リストにして、後で結合させる\n",
        "        text = [sentence.strip() for sentence in text]  # 空白文字(スペースやタブ、改行)の削除\n",
        "        text = list(filter(lambda line: line != '', text))\n",
        "        text = ''.join(text)\n",
        "        text = text.translate(str.maketrans(\n",
        "            {'\\n': '', '\\t': '', '\\r': '', '\\u3000': ''}))  # 改行やタブ、全角スペースを消す\n",
        "        return text\n"
      ],
      "execution_count": 0,
      "outputs": []
    },
    {
      "cell_type": "code",
      "metadata": {
        "id": "A4CnfAGZmK24",
        "colab_type": "code",
        "colab": {}
      },
      "source": [
        "# リストに前処理した本文と、カテゴリーのラベルを追加していく\n",
        "import glob\n",
        "\n",
        "list_text = []\n",
        "list_label = []\n",
        "\n",
        "for cat in categories:\n",
        "    text_files = glob.glob(os.path.join(\"./data/livedoor/text\", cat, \"*.txt\"))\n",
        "\n",
        "    # 前処理extract_main_txtを実施して本文を取得\n",
        "    body = [extract_main_txt(text_file) for text_file in text_files]\n",
        "\n",
        "    label = [cat] * len(body)  # bodyの数文だけカテゴリー名のラベルのリストを作成\n",
        "\n",
        "    list_text.extend(body)  # appendが要素を追加するのに対して、extendはリストごと追加する\n",
        "    list_label.extend(label)\n"
      ],
      "execution_count": 0,
      "outputs": []
    },
    {
      "cell_type": "code",
      "metadata": {
        "id": "KJpQoYv3mMdo",
        "colab_type": "code",
        "colab": {
          "base_uri": "https://localhost:8080/",
          "height": 34
        },
        "outputId": "33aea7c6-f55a-489b-dab9-0e674aa2bc2e"
      },
      "source": [
        "# pandasのDataFrameにする\n",
        "import pandas as pd\n",
        "\n",
        "df = pd.DataFrame({'text': list_text, 'label': list_label})\n",
        "\n",
        "# 大きさを確認しておく（7,376文章が存在）\n",
        "print(df.shape)\n"
      ],
      "execution_count": 7,
      "outputs": [
        {
          "output_type": "stream",
          "text": [
            "(7376, 2)\n"
          ],
          "name": "stdout"
        }
      ]
    },
    {
      "cell_type": "code",
      "metadata": {
        "id": "bCyHRxKZmPiG",
        "colab_type": "code",
        "colab": {}
      },
      "source": [
        "# カテゴリーの辞書を作成\n",
        "dic_id2cat = dict(zip(list(range(len(categories))), categories))\n",
        "dic_cat2id = dict(zip(categories, list(range(len(categories)))))\n",
        "\n",
        "# DataFrameにカテゴリーindexの列を作成\n",
        "df[\"label_index\"] = df[\"label\"].map(dic_cat2id)\n",
        "\n",
        "# label列を消去し、text, indexの順番にする\n",
        "df = df.loc[:, [\"text\", \"label_index\"]]\n"
      ],
      "execution_count": 0,
      "outputs": []
    },
    {
      "cell_type": "code",
      "metadata": {
        "id": "cl7A9wqgmT6I",
        "colab_type": "code",
        "colab": {}
      },
      "source": [
        "# 順番をシャッフルする\n",
        "df = df.sample(frac=1, random_state=123).reset_index(drop=True)\n"
      ],
      "execution_count": 0,
      "outputs": []
    },
    {
      "cell_type": "code",
      "metadata": {
        "id": "w6SefmjxmWUg",
        "colab_type": "code",
        "colab": {
          "base_uri": "https://localhost:8080/",
          "height": 52
        },
        "outputId": "5d0ccf4a-a7c2-4956-8261-653e79872abf"
      },
      "source": [
        "# tsvファイルで保存する\n",
        "\n",
        "# 全体の2割の文章数\n",
        "len_0_2 = len(df) // 5\n",
        "\n",
        "# 前から2割をテストデータとする\n",
        "df[:len_0_2].to_csv(\"./test.tsv\", sep='\\t', index=False, header=None)\n",
        "print(df[:len_0_2].shape)\n",
        "\n",
        "# 前2割からを訓練&検証データとする\n",
        "df[len_0_2:].to_csv(\"./train_eval.tsv\", sep='\\t', index=False, header=None)\n",
        "print(df[len_0_2:].shape)\n"
      ],
      "execution_count": 10,
      "outputs": [
        {
          "output_type": "stream",
          "text": [
            "(1475, 2)\n",
            "(5901, 2)\n"
          ],
          "name": "stdout"
        }
      ]
    },
    {
      "cell_type": "code",
      "metadata": {
        "id": "Ctr9cqijmY1w",
        "colab_type": "code",
        "colab": {}
      },
      "source": [
        "# tsvファイルをダウンロードしたい場合\n",
        "from google.colab import files\n",
        "\n",
        "# ダウンロードする場合はコメントを外す\n",
        "# 少し時間がかかる（4MB）\n",
        "# files.download(\"./test.tsv\")\n",
        "\n",
        "\n",
        "# ダウンロードする場合はコメントを外す\n",
        "# 少し時間がかかる（18MB）\n",
        "# files.download(\"./train_eval.tsv\")\n"
      ],
      "execution_count": 0,
      "outputs": []
    },
    {
      "cell_type": "markdown",
      "metadata": {
        "id": "HRpWunm7mmoq",
        "colab_type": "text"
      },
      "source": [
        "- LivedoorニュースをBERT用のDataLoaderにする\n",
        "- Hugginfaceのリポジトリの案内とは異なり、torchtextを使用した手法で実装"
      ]
    },
    {
      "cell_type": "code",
      "metadata": {
        "id": "IQFouaGHmWXx",
        "colab_type": "code",
        "colab": {
          "base_uri": "https://localhost:8080/",
          "height": 785
        },
        "outputId": "f622f251-f42a-4fc8-93af-4e3be7a60327"
      },
      "source": [
        "# MeCabとtransformersの用意\n",
        "!apt install aptitude swig\n",
        "!aptitude install mecab libmecab-dev mecab-ipadic-utf8 git make curl xz-utils file -y\n",
        "!pip install mecab-python3\n",
        "!pip install transformers==2.9.0"
      ],
      "execution_count": 12,
      "outputs": [
        {
          "output_type": "stream",
          "text": [
            "Reading package lists... Done\n",
            "Building dependency tree       \n",
            "Reading state information... Done\n",
            "aptitude is already the newest version (0.8.10-6ubuntu1).\n",
            "swig is already the newest version (3.0.12-1).\n",
            "0 upgraded, 0 newly installed, 0 to remove and 31 not upgraded.\n",
            "mecab is already installed at the requested version (0.996-5)\n",
            "libmecab-dev is already installed at the requested version (0.996-5)\n",
            "mecab-ipadic-utf8 is already installed at the requested version (2.7.0-20070801+main-1)\n",
            "git is already installed at the requested version (1:2.17.1-1ubuntu0.7)\n",
            "make is already installed at the requested version (4.1-9.1ubuntu1)\n",
            "curl is already installed at the requested version (7.58.0-2ubuntu3.8)\n",
            "xz-utils is already installed at the requested version (5.2.2-1.3)\n",
            "file is already installed at the requested version (1:5.32-2ubuntu0.4)\n",
            "mecab is already installed at the requested version (0.996-5)\n",
            "libmecab-dev is already installed at the requested version (0.996-5)\n",
            "mecab-ipadic-utf8 is already installed at the requested version (2.7.0-20070801+main-1)\n",
            "git is already installed at the requested version (1:2.17.1-1ubuntu0.7)\n",
            "make is already installed at the requested version (4.1-9.1ubuntu1)\n",
            "curl is already installed at the requested version (7.58.0-2ubuntu3.8)\n",
            "xz-utils is already installed at the requested version (5.2.2-1.3)\n",
            "file is already installed at the requested version (1:5.32-2ubuntu0.4)\n",
            "No packages will be installed, upgraded, or removed.\n",
            "0 packages upgraded, 0 newly installed, 0 to remove and 31 not upgraded.\n",
            "Need to get 0 B of archives. After unpacking 0 B will be used.\n",
            "                            \n",
            "Requirement already satisfied: mecab-python3 in /usr/local/lib/python3.6/dist-packages (0.996.5)\n",
            "Requirement already satisfied: transformers==2.9.0 in /usr/local/lib/python3.6/dist-packages (2.9.0)\n",
            "Requirement already satisfied: sentencepiece in /usr/local/lib/python3.6/dist-packages (from transformers==2.9.0) (0.1.90)\n",
            "Requirement already satisfied: regex!=2019.12.17 in /usr/local/lib/python3.6/dist-packages (from transformers==2.9.0) (2019.12.20)\n",
            "Requirement already satisfied: numpy in /usr/local/lib/python3.6/dist-packages (from transformers==2.9.0) (1.18.4)\n",
            "Requirement already satisfied: filelock in /usr/local/lib/python3.6/dist-packages (from transformers==2.9.0) (3.0.12)\n",
            "Requirement already satisfied: tqdm>=4.27 in /usr/local/lib/python3.6/dist-packages (from transformers==2.9.0) (4.41.1)\n",
            "Requirement already satisfied: sacremoses in /usr/local/lib/python3.6/dist-packages (from transformers==2.9.0) (0.0.43)\n",
            "Requirement already satisfied: tokenizers==0.7.0 in /usr/local/lib/python3.6/dist-packages (from transformers==2.9.0) (0.7.0)\n",
            "Requirement already satisfied: dataclasses; python_version < \"3.7\" in /usr/local/lib/python3.6/dist-packages (from transformers==2.9.0) (0.7)\n",
            "Requirement already satisfied: requests in /usr/local/lib/python3.6/dist-packages (from transformers==2.9.0) (2.23.0)\n",
            "Requirement already satisfied: six in /usr/local/lib/python3.6/dist-packages (from sacremoses->transformers==2.9.0) (1.12.0)\n",
            "Requirement already satisfied: click in /usr/local/lib/python3.6/dist-packages (from sacremoses->transformers==2.9.0) (7.1.2)\n",
            "Requirement already satisfied: joblib in /usr/local/lib/python3.6/dist-packages (from sacremoses->transformers==2.9.0) (0.15.0)\n",
            "Requirement already satisfied: chardet<4,>=3.0.2 in /usr/local/lib/python3.6/dist-packages (from requests->transformers==2.9.0) (3.0.4)\n",
            "Requirement already satisfied: idna<3,>=2.5 in /usr/local/lib/python3.6/dist-packages (from requests->transformers==2.9.0) (2.9)\n",
            "Requirement already satisfied: certifi>=2017.4.17 in /usr/local/lib/python3.6/dist-packages (from requests->transformers==2.9.0) (2020.4.5.1)\n",
            "Requirement already satisfied: urllib3!=1.25.0,!=1.25.1,<1.26,>=1.21.1 in /usr/local/lib/python3.6/dist-packages (from requests->transformers==2.9.0) (1.24.3)\n"
          ],
          "name": "stdout"
        }
      ]
    },
    {
      "cell_type": "code",
      "metadata": {
        "id": "JnF1Kqbpmr9Z",
        "colab_type": "code",
        "colab": {}
      },
      "source": [
        "import torch\n",
        "import torchtext  # torchtextを使用\n",
        "from transformers.modeling_bert import BertModel\n",
        "from transformers.tokenization_bert_japanese import BertJapaneseTokenizer\n",
        "\n",
        "# 日本語BERTの分かち書き用tokenizerです\n",
        "tokenizer = BertJapaneseTokenizer.from_pretrained(\n",
        "    'bert-base-japanese-whole-word-masking')\n"
      ],
      "execution_count": 0,
      "outputs": []
    },
    {
      "cell_type": "code",
      "metadata": {
        "id": "g09HyOvcmt3g",
        "colab_type": "code",
        "colab": {}
      },
      "source": [
        "# データを読み込んだときに、読み込んだ内容に対して行う処理を定義します\n",
        "\n",
        "max_length = 512  # 東北大学_日本語版の最大の単語数（サブワード数）は512\n",
        "\n",
        "\n",
        "def tokenizer_512(input_text):\n",
        "    \"\"\"torchtextのtokenizerとして扱えるように、512単語のpytorchでのencodeを定義。ここで[0]を指定し忘れないように\"\"\"\n",
        "    return tokenizer.encode(input_text, max_length=512, return_tensors='pt')[0]\n",
        "\n",
        "\n",
        "TEXT = torchtext.data.Field(sequential=True, tokenize=tokenizer_512, use_vocab=False, lower=False,\n",
        "                            include_lengths=True, batch_first=True, fix_length=max_length, pad_token=0)\n",
        "# 注意：tokenize=tokenizer.encodeと、.encodeをつけます。padding[PAD]のindexが0なので、0を指定します。\n",
        "\n",
        "LABEL = torchtext.data.Field(sequential=False, use_vocab=False)\n",
        "\n",
        "# (注釈)：各引数を再確認\n",
        "# sequential: データの長さが可変か？文章は長さがいろいろなのでTrue.ラベルはFalse\n",
        "# tokenize: 文章を読み込んだときに、前処理や単語分割をするための関数を定義\n",
        "# use_vocab：単語をボキャブラリーに追加するかどうか\n",
        "# lower：アルファベットがあったときに小文字に変換するかどうか\n",
        "# include_length: 文章の単語数のデータを保持するか\n",
        "# batch_first：ミニバッチの次元を用意するかどうか\n",
        "# fix_length：全部の文章をfix_lengthと同じ長さになるように、paddingします\n",
        "# init_token, eos_token, pad_token, unk_token：文頭、文末、padding、未知語に対して、どんな単語を与えるかを指定\n"
      ],
      "execution_count": 0,
      "outputs": []
    },
    {
      "cell_type": "code",
      "metadata": {
        "id": "wd1nnQfDmvsw",
        "colab_type": "code",
        "colab": {}
      },
      "source": [
        "# 各tsvファイルを読み込み、分かち書きをしてdatasetにします\n",
        "# 少し時間がかかります\n",
        "# train_eval：5901個、test：1475個\n",
        "dataset_train_eval, dataset_test = torchtext.data.TabularDataset.splits(\n",
        "    path='.', train='train_eval.tsv', test='test.tsv', format='tsv', fields=[('Text', TEXT), ('Label', LABEL)])\n",
        "\n"
      ],
      "execution_count": 0,
      "outputs": []
    },
    {
      "cell_type": "code",
      "metadata": {
        "id": "AIG7NxComxco",
        "colab_type": "code",
        "colab": {
          "base_uri": "https://localhost:8080/",
          "height": 69
        },
        "outputId": "adcd0049-9949-43ce-a221-c0fdde9827f6"
      },
      "source": [
        "# torchtext.data.Datasetのsplit関数で訓練データと検証データを分ける\n",
        "# train_eval：5901個、test：1475個\n",
        "\n",
        "dataset_train, dataset_eval = dataset_train_eval.split(\n",
        "    split_ratio=1.0 - 1475/5901, random_state=random.seed(1234))\n",
        "\n",
        "# datasetの長さを確認してみる\n",
        "print(dataset_train.__len__())\n",
        "print(dataset_eval.__len__())\n",
        "print(dataset_test.__len__())\n"
      ],
      "execution_count": 16,
      "outputs": [
        {
          "output_type": "stream",
          "text": [
            "4426\n",
            "1475\n",
            "1475\n"
          ],
          "name": "stdout"
        }
      ]
    },
    {
      "cell_type": "code",
      "metadata": {
        "id": "XitKKeEgmzTp",
        "colab_type": "code",
        "colab": {}
      },
      "source": [
        "# DataLoaderを作成します（torchtextの文脈では単純にiteraterと呼ばれています）\n",
        "batch_size = 16  # BERTでは16、32あたりを使用する\n",
        "\n",
        "dl_train = torchtext.data.Iterator(\n",
        "    dataset_train, batch_size=batch_size, train=True)\n",
        "\n",
        "dl_eval = torchtext.data.Iterator(\n",
        "    dataset_eval, batch_size=batch_size, train=False, sort=False)\n",
        "\n",
        "dl_test = torchtext.data.Iterator(\n",
        "    dataset_test, batch_size=batch_size, train=False, sort=False)\n",
        "\n",
        "# 辞書オブジェクトにまとめる\n",
        "dataloaders_dict = {\"train\": dl_train, \"val\": dl_eval}\n"
      ],
      "execution_count": 0,
      "outputs": []
    },
    {
      "cell_type": "markdown",
      "metadata": {
        "id": "ln5XJH3lm4MR",
        "colab_type": "text"
      },
      "source": [
        "## 準備2：BERTでlivedoorニュースの記事をベクトル化する"
      ]
    },
    {
      "cell_type": "code",
      "metadata": {
        "colab_type": "code",
        "id": "hFlvnI05a4xN",
        "outputId": "0c8f3fb8-b329-40e1-e7a1-f8dc2b9add60",
        "colab": {
          "base_uri": "https://localhost:8080/",
          "height": 34
        }
      },
      "source": [
        "from transformers.modeling_bert import BertModel\n",
        "\n",
        "# BERTの日本語学習済みパラメータのモデルです\n",
        "model = BertModel.from_pretrained('bert-base-japanese-whole-word-masking')\n",
        "model.eval()\n",
        "print('ネットワーク設定完了')\n"
      ],
      "execution_count": 18,
      "outputs": [
        {
          "output_type": "stream",
          "text": [
            "ネットワーク設定完了\n"
          ],
          "name": "stdout"
        }
      ]
    },
    {
      "cell_type": "code",
      "metadata": {
        "colab_type": "code",
        "id": "ZNaAXgiITFiw",
        "colab": {}
      },
      "source": [
        "# BERTでベクトル化する関数を定義\n",
        "\n",
        "\n",
        "def vectorize_with_bert(net, dataloader):\n",
        "\n",
        "    # GPUが使えるかを確認\n",
        "    device = torch.device(\"cuda:0\" if torch.cuda.is_available() else \"cpu\")\n",
        "    print(\"使用デバイス：\", device)\n",
        "    print('-----start-------')\n",
        "\n",
        "    # ネットワークをGPUへ\n",
        "    net.to(device)\n",
        "\n",
        "    # ネットワークがある程度固定であれば、高速化させる\n",
        "    torch.backends.cudnn.benchmark = True\n",
        "\n",
        "    # ミニバッチのサイズ\n",
        "    batch_size = dataloader.batch_size\n",
        "\n",
        "    # データローダーからミニバッチを取り出すループ\n",
        "    for index, batch in enumerate(dataloader):\n",
        "        # batchはTextとLableの辞書オブジェクト\n",
        "        device = torch.device(\"cuda:0\" if torch.cuda.is_available() else \"cpu\")\n",
        "        inputs = batch.Text[0].to(device)  # 文章\n",
        "        labels = batch.Label.to(device)  # ラベル\n",
        "\n",
        "        # 順伝搬（forward）計算\n",
        "        with torch.set_grad_enabled(False):\n",
        "\n",
        "            # Berに入力\n",
        "            result = net(inputs)\n",
        "\n",
        "            # sequence_outputの先頭の単語ベクトルを抜き出す\n",
        "            vec_0 = result[0]  # 最初の0がsequence_outputを示す\n",
        "            vec_0 = vec_0[:, 0, :]  # 全バッチ。先頭0番目の単語の全768要素\n",
        "            vec_0 = vec_0.view(-1, 768)  # sizeを[batch_size, hidden_size]に変換\n",
        "\n",
        "            # ベクトル化したデータをtorchリストにまとめる\n",
        "            if index == 0:\n",
        "                list_text = vec_0\n",
        "                list_label = labels\n",
        "            else:\n",
        "                list_text = torch.cat([list_text, vec_0], dim=0)\n",
        "                list_label = torch.cat([list_label, labels], dim=0)\n",
        "\n",
        "    return list_text, list_label\n"
      ],
      "execution_count": 0,
      "outputs": []
    },
    {
      "cell_type": "code",
      "metadata": {
        "colab_type": "code",
        "id": "JfnH-gAmS75e",
        "outputId": "b9c13d90-a4b1-41a1-9e0b-93cd2a7f7915",
        "colab": {
          "base_uri": "https://localhost:8080/",
          "height": 121
        }
      },
      "source": [
        "# DataLoaderをベクトル化版に変換\n",
        "# 少し時間がかかります5分弱\n",
        "\n",
        "list_text_train, list_label_train = vectorize_with_bert(model, dl_train)\n",
        "list_text_eval, list_label_eval = vectorize_with_bert(model, dl_eval)\n",
        "list_text_test, list_label_test = vectorize_with_bert(model, dl_test)\n"
      ],
      "execution_count": 20,
      "outputs": [
        {
          "output_type": "stream",
          "text": [
            "使用デバイス： cuda:0\n",
            "-----start-------\n",
            "使用デバイス： cuda:0\n",
            "-----start-------\n",
            "使用デバイス： cuda:0\n",
            "-----start-------\n"
          ],
          "name": "stdout"
        }
      ]
    },
    {
      "cell_type": "code",
      "metadata": {
        "colab_type": "code",
        "id": "-Aq6sYxFF2ti",
        "colab": {}
      },
      "source": [
        "# torchのリストをDatasetに変換\n",
        "\n",
        "from torch.utils.data import TensorDataset\n",
        "\n",
        "dataset_bert_train = TensorDataset(\n",
        "    list_label_train.view(-1, 1), list_text_train)\n",
        "dataset_bert_eval = TensorDataset(list_label_eval.view(-1, 1), list_text_eval)\n",
        "dataset_bert_test = TensorDataset(list_label_test.view(-1, 1), list_text_test)\n"
      ],
      "execution_count": 0,
      "outputs": []
    },
    {
      "cell_type": "code",
      "metadata": {
        "colab_type": "code",
        "id": "ktNKYU_XK_3T",
        "colab": {}
      },
      "source": [
        "# Dataloaderにする\n",
        "from torch.utils.data import DataLoader\n",
        "\n",
        "batch_size = 1024\n",
        "\n",
        "dl_bert_train = DataLoader(\n",
        "    dataset_bert_train, batch_size=batch_size, shuffle=True, drop_last=True)\n",
        "# drop_lastは最後のミニバッチがbatch_sizeに足りない場合は無視する\n",
        "\n",
        "dl_bert_eval = DataLoader(\n",
        "    dataset_bert_eval, batch_size=batch_size, shuffle=False)\n",
        "dl_bert_test = DataLoader(\n",
        "    dataset_bert_test, batch_size=batch_size, shuffle=False)\n"
      ],
      "execution_count": 0,
      "outputs": []
    },
    {
      "cell_type": "markdown",
      "metadata": {
        "colab_type": "text",
        "id": "aGA7Tm-CMHs1"
      },
      "source": [
        "## 準備3：IICのディープラーニングモデルを用意"
      ]
    },
    {
      "cell_type": "code",
      "metadata": {
        "colab_type": "code",
        "id": "5pgI08SsMJ-y",
        "colab": {}
      },
      "source": [
        "import torch.nn as nn\n",
        "import torch.nn.functional as F\n",
        "\n",
        "OVER_CLUSTRING_RATE = 10\n",
        "\n",
        "\n",
        "class NetIIC(nn.Module):\n",
        "    def __init__(self):\n",
        "        super(NetIIC, self).__init__()\n",
        "\n",
        "        # multi-headは今回しない\n",
        "        self.conv1 = nn.Conv1d(1, 400, kernel_size=768, stride=1, padding=0)\n",
        "        self.bn1 = nn.BatchNorm1d(400)\n",
        "        self.conv2 = nn.Conv1d(1, 300, kernel_size=400, stride=1, padding=0)\n",
        "        self.bn2 = nn.BatchNorm1d(300)\n",
        "        self.conv3 = nn.Conv1d(1, 300, kernel_size=300, stride=1, padding=0)\n",
        "        self.bn3 = nn.BatchNorm1d(300)\n",
        "\n",
        "        self.fc1 = nn.Linear(300, 250)\n",
        "        self.bnfc1 = nn.BatchNorm1d(250)\n",
        "\n",
        "        # livedoorニュースの9カテゴリに対応するかな？と期待する9分類\n",
        "        self.fc2 = nn.Linear(250, 9)\n",
        "\n",
        "        # overclustering\n",
        "        # 実際の想定よりも多めにクラスタリングさせることで、ネットワークで微細な変化を捉えられるようにする\n",
        "        self.fc2_overclustering = nn.Linear(250, 9*OVER_CLUSTRING_RATE)\n",
        "\n",
        "    def forward(self, x):\n",
        "        x = x.view(x.size(0), 1, -1)\n",
        "        x = F.relu(self.bn1(self.conv1(x)))\n",
        "\n",
        "        x = x.view(x.size(0), 1, -1)\n",
        "        x = F.relu(self.bn2(self.conv2(x)))\n",
        "\n",
        "        x = x.view(x.size(0), 1, -1)\n",
        "        x = F.relu(self.bn3(self.conv3(x)))\n",
        "\n",
        "        x = x.view(x.size(0), -1)\n",
        "        x_prefinal = F.relu(self.bnfc1(self.fc1(x)))\n",
        "\n",
        "        # multi-headは使わず\n",
        "        y = F.softmax(self.fc2(x_prefinal), dim=1)\n",
        "        y_overclustering = F.softmax(self.fc2_overclustering(\n",
        "            x_prefinal), dim=1)  # overclustering\n",
        "\n",
        "        return y, y_overclustering\n"
      ],
      "execution_count": 0,
      "outputs": []
    },
    {
      "cell_type": "code",
      "metadata": {
        "id": "YGKmdx0Ux112",
        "colab_type": "code",
        "colab": {}
      },
      "source": [
        "import torch.nn.init as init\n",
        "\n",
        "\n",
        "def weight_init(m):\n",
        "    \"\"\"重み初期化\"\"\"\n",
        "    if isinstance(m, nn.Conv1d):\n",
        "        init.normal_(m.weight.data)\n",
        "        if m.bias is not None:\n",
        "            init.normal_(m.bias.data)\n",
        "    elif isinstance(m, nn.BatchNorm1d):\n",
        "        init.normal_(m.weight.data, mean=1, std=0.02)\n",
        "        init.constant_(m.bias.data, 0)\n",
        "    elif isinstance(m, nn.Linear):\n",
        "        # Xavier\n",
        "        # init.xavier_normal_(m.weight.data)\n",
        "\n",
        "        # He\n",
        "        init.kaiming_normal_(m.weight.data)\n",
        "\n",
        "        if m.bias is not None:\n",
        "            init.normal_(m.bias.data)\n"
      ],
      "execution_count": 0,
      "outputs": []
    },
    {
      "cell_type": "code",
      "metadata": {
        "colab_type": "code",
        "id": "rnVaLHowOR_S",
        "colab": {}
      },
      "source": [
        "# IISによる損失関数の定義\n",
        "# 参考：https://github.com/RuABraun/phone-clustering/blob/master/mnist_basic.py\n",
        "import sys\n",
        "\n",
        "\n",
        "def compute_joint(x_out, x_tf_out):\n",
        "    bn, k = x_out.size()\n",
        "    assert (x_tf_out.size(0) == bn and x_tf_out.size(1) == k), '{} {} {} {}'.format(\n",
        "        bn, k, x_tf_out.size(0), x_tf_out.size(1))\n",
        "\n",
        "    p_i_j = x_out.unsqueeze(2) * x_tf_out.unsqueeze(1)  # bn, k, k\n",
        "    p_i_j = p_i_j.sum(dim=0)  # k, k\n",
        "    p_i_j = (p_i_j + p_i_j.t()) / 2.  # symmetrise\n",
        "    p_i_j = p_i_j / p_i_j.sum()  # normalise\n",
        "    return p_i_j\n",
        "\n",
        "\n",
        "def IID_loss(x_out, x_tf_out, EPS=sys.float_info.epsilon):\n",
        "    # has had softmax applied\n",
        "    bs, k = x_out.size()\n",
        "    p_i_j = compute_joint(x_out, x_tf_out)\n",
        "    assert (p_i_j.size() == (k, k))\n",
        "\n",
        "    p_i = p_i_j.sum(dim=1).view(k, 1).expand(k, k)\n",
        "    p_j = p_i_j.sum(dim=0).view(1, k).expand(k, k)\n",
        "\n",
        "    # avoid NaN losses. Effect will get cancelled out by p_i_j tiny anyway\n",
        "    # これはPyTorchのバージョン1.3以上だとエラーになる\n",
        "    # https://discuss.pytorch.org/t/pytorch-1-3-showing-an-error-perhaps-for-loss-computed-from-paired-outputs/68790/3\n",
        "    #p_i_j[(p_i_j < EPS).data] = EPS\n",
        "    #p_j[(p_j < EPS).data] = EPS\n",
        "    #p_i[(p_i < EPS).data] = EPS\n",
        "\n",
        "    p_i_j = torch.where(p_i_j < EPS, torch.tensor(\n",
        "        [EPS], device=p_i_j.device), p_i_j)\n",
        "    p_j = torch.where(p_j < EPS, torch.tensor([EPS], device=p_j.device), p_j)\n",
        "    p_i = torch.where(p_i < EPS, torch.tensor([EPS], device=p_i.device), p_i)\n",
        "\n",
        "    # https://qiita.com/Amanokawa/items/0aa24bc396dd88fb7d2a\n",
        "    # 参考に、重みalphaを追加\n",
        "\n",
        "    alpha = 2.0\n",
        "    loss = (- p_i_j * (torch.log(p_i_j) - alpha *\n",
        "                       torch.log(p_j) - alpha*torch.log(p_i))).sum()\n",
        "\n",
        "    return loss\n"
      ],
      "execution_count": 0,
      "outputs": []
    },
    {
      "cell_type": "code",
      "metadata": {
        "colab_type": "code",
        "id": "rbX7HxheOWIp",
        "colab": {}
      },
      "source": [
        "# データにノイズを加える関数の定義\n",
        "device = 'cuda' if torch.cuda.is_available() else 'cpu'\n",
        "tensor_std = list_text_train.std(dim=0).to(device)\n",
        "\n",
        "\n",
        "def perturb_data(x):\n",
        "    y = x.clone()\n",
        "    noise = torch.randn(len(tensor_std)).to(device)*tensor_std*2.0\n",
        "    noise = noise.expand(x.shape[0], -1)\n",
        "    y += noise\n",
        "\n",
        "    return y\n"
      ],
      "execution_count": 0,
      "outputs": []
    },
    {
      "cell_type": "markdown",
      "metadata": {
        "id": "Mt1jf4xAz0r4",
        "colab_type": "text"
      },
      "source": [
        "## 4：IICのネットワークを学習させる"
      ]
    },
    {
      "cell_type": "code",
      "metadata": {
        "colab_type": "code",
        "id": "Em2zsT9jOSDC",
        "colab": {}
      },
      "source": [
        "# 学習関数の定義\n",
        "\n",
        "def train(total_epoch, model, train_loader, optimizer, device):\n",
        "\n",
        "    # ネットワークを訓練モードに\n",
        "    model.train()\n",
        "\n",
        "    # 学習率のスケジューラーCosAnnealing\n",
        "    scheduler = torch.optim.lr_scheduler.CosineAnnealingWarmRestarts(\n",
        "        optimizer, T_0=2, T_mult=2, eta_min=0)\n",
        "\n",
        "    for epoch in range(total_epoch):\n",
        "        for batch_idx, (target, data) in enumerate(train_loader):\n",
        "\n",
        "            # 学習率変化\n",
        "            scheduler.step()\n",
        "            \n",
        "            data_perturb = perturb_data(data)  # ノイズを与え、変換したデータを作る\n",
        "\n",
        "            # GPUに送れる場合は送る\n",
        "            data = data.to(device)\n",
        "            data_perturb = data_perturb.to(device)\n",
        "\n",
        "            # 最適化関数の初期化\n",
        "            optimizer.zero_grad()\n",
        "\n",
        "            # ニューラルネットワークへ入れる\n",
        "            output, output_overclustering = model(data)\n",
        "            output_perturb, output_perturb_overclustering = model(data_perturb)\n",
        "\n",
        "            # 損失の計算\n",
        "            loss1 = IID_loss(output, output_perturb)\n",
        "            loss2 = IID_loss(output_overclustering,\n",
        "                             output_perturb_overclustering)\n",
        "            loss = loss1 + loss2\n",
        "\n",
        "            # 損失を減らすように更新\n",
        "            loss.backward()\n",
        "            optimizer.step()\n",
        "\n",
        "        # ログ出力\n",
        "        if epoch % 50 == 0:\n",
        "            print('Train Epoch {} \\tLoss1: {:.6f} \\tLoss2: {:.6f} \\tLoss_total: {:.6f}'.format(\n",
        "                epoch, loss1.item(), loss2.item(), loss1.item()+loss2.item()))\n",
        "\n",
        "    return model, optimizer\n"
      ],
      "execution_count": 0,
      "outputs": []
    },
    {
      "cell_type": "code",
      "metadata": {
        "id": "yNVviRq-0-wH",
        "colab_type": "code",
        "colab": {
          "base_uri": "https://localhost:8080/",
          "height": 366
        },
        "outputId": "4dc3deb2-c36a-4141-88f0-45123716b300"
      },
      "source": [
        "# 学習の実施(5分弱)\n",
        "\n",
        "# モデルの用意\n",
        "net = NetIIC()\n",
        "net.apply(weight_init)\n",
        "net.to(device)\n",
        "\n",
        "# 最適化関数\n",
        "optimizer = torch.optim.Adam(net.parameters(), lr=5e-4) \n",
        "\n",
        "total_epoch = 1000\n",
        "\n",
        "model_trained, optimizer = train(\n",
        "    total_epoch, net, dl_bert_train, optimizer, device)\n"
      ],
      "execution_count": 28,
      "outputs": [
        {
          "output_type": "stream",
          "text": [
            "Train Epoch 0 \tLoss1: -3.942952 \tLoss2: -7.741894 \tLoss_total: -11.684846\n",
            "Train Epoch 50 \tLoss1: -6.027591 \tLoss2: -10.173136 \tLoss_total: -16.200727\n",
            "Train Epoch 100 \tLoss1: -6.497630 \tLoss2: -11.162491 \tLoss_total: -17.660121\n",
            "Train Epoch 150 \tLoss1: -6.564329 \tLoss2: -11.766784 \tLoss_total: -18.331113\n",
            "Train Epoch 200 \tLoss1: -6.568226 \tLoss2: -12.377754 \tLoss_total: -18.945980\n",
            "Train Epoch 250 \tLoss1: -6.570720 \tLoss2: -12.563309 \tLoss_total: -19.134029\n",
            "Train Epoch 300 \tLoss1: -6.559010 \tLoss2: -13.132699 \tLoss_total: -19.691709\n",
            "Train Epoch 350 \tLoss1: -6.582628 \tLoss2: -13.215260 \tLoss_total: -19.797887\n",
            "Train Epoch 400 \tLoss1: -6.566440 \tLoss2: -13.149175 \tLoss_total: -19.715615\n",
            "Train Epoch 450 \tLoss1: -6.562125 \tLoss2: -13.176473 \tLoss_total: -19.738598\n",
            "Train Epoch 500 \tLoss1: -6.565271 \tLoss2: -13.200027 \tLoss_total: -19.765298\n",
            "Train Epoch 550 \tLoss1: -6.577297 \tLoss2: -13.210943 \tLoss_total: -19.788240\n",
            "Train Epoch 600 \tLoss1: -6.568009 \tLoss2: -13.191870 \tLoss_total: -19.759879\n",
            "Train Epoch 650 \tLoss1: -6.579137 \tLoss2: -13.216931 \tLoss_total: -19.796069\n",
            "Train Epoch 700 \tLoss1: -6.558009 \tLoss2: -13.165674 \tLoss_total: -19.723683\n",
            "Train Epoch 750 \tLoss1: -6.554212 \tLoss2: -13.134880 \tLoss_total: -19.689092\n",
            "Train Epoch 800 \tLoss1: -6.568185 \tLoss2: -13.211288 \tLoss_total: -19.779473\n",
            "Train Epoch 850 \tLoss1: -6.571633 \tLoss2: -13.266281 \tLoss_total: -19.837914\n",
            "Train Epoch 900 \tLoss1: -6.572432 \tLoss2: -13.159925 \tLoss_total: -19.732358\n",
            "Train Epoch 950 \tLoss1: -6.571991 \tLoss2: -13.232094 \tLoss_total: -19.804085\n"
          ],
          "name": "stdout"
        }
      ]
    },
    {
      "cell_type": "code",
      "metadata": {
        "colab_type": "code",
        "id": "EdxKZzijT5PG",
        "colab": {}
      },
      "source": [
        "# モデル分類のクラスターの結果を確認する\n",
        "import numpy as np\n",
        "\n",
        "# ミニバッチサイズ1のテスト用のDataLoaderを用意\n",
        "dl_bert_test = DataLoader(\n",
        "    dataset_bert_test, batch_size=1, shuffle=False)\n",
        "\n",
        "\n",
        "def test(model, device, test_loader):\n",
        "    model.eval()\n",
        "\n",
        "    out_targs = []\n",
        "    ref_targs = []\n",
        "\n",
        "    # 出力用のリストを用意\n",
        "    total_num = len(test_loader)\n",
        "    # index, (target_label, inferenced_label)\n",
        "    output_list = np.zeros((total_num, 2))\n",
        "\n",
        "    with torch.no_grad():\n",
        "        for batch_idx, (target, data) in enumerate(test_loader):\n",
        "            data = data.to(device)\n",
        "            target = target.to(device)\n",
        "            outputs, outputs_overclustering = model(data)\n",
        "\n",
        "            # 分類結果をリストに追加\n",
        "            out_targs.append(outputs.argmax(dim=1).cpu())\n",
        "            ref_targs.append(target[0].cpu())\n",
        "\n",
        "            # 結果をリストにまとめる\n",
        "            output_list[batch_idx, 0] = target[0][0].cpu()  # 正解ラベル\n",
        "            output_list[batch_idx, 1] = outputs.argmax(dim=1).cpu()  # 予測ラベル\n",
        "\n",
        "    out_targs = torch.cat(out_targs)\n",
        "    ref_targs = torch.cat(ref_targs)\n",
        "\n",
        "    return out_targs.view(-1, 1).numpy(), ref_targs.numpy(), output_list\n"
      ],
      "execution_count": 0,
      "outputs": []
    },
    {
      "cell_type": "code",
      "metadata": {
        "id": "jpX0jnIRBmsT",
        "colab_type": "code",
        "colab": {}
      },
      "source": [
        "# テストデータで推論を実施\n",
        "out_targs, ref_targs, output_list = test(model_trained, device, dl_bert_test)\n"
      ],
      "execution_count": 0,
      "outputs": []
    },
    {
      "cell_type": "code",
      "metadata": {
        "id": "-F0HrySbC_RI",
        "colab_type": "code",
        "colab": {
          "base_uri": "https://localhost:8080/",
          "height": 174
        },
        "outputId": "03240338-7937-46ce-dbc6-20546cca8cb6"
      },
      "source": [
        "# 混同行列（的な）を作る\n",
        "matrix = np.zeros((9, 9))\n",
        "\n",
        "# 縦にlivedoorニュースの正解クラスを、横に判定されたクラスの頻度表を作成\n",
        "for i in range(len(out_targs)):\n",
        "    row = ref_targs[i]\n",
        "    col = out_targs[i]\n",
        "    matrix[row][col] += 1\n",
        "\n",
        "np.set_printoptions(suppress=True)\n",
        "print(matrix)\n"
      ],
      "execution_count": 31,
      "outputs": [
        {
          "output_type": "stream",
          "text": [
            "[[ 55.   0.   1.   0.   4.  47.   2.  76.   0.]\n",
            " [  3.  40.   4.   0.  14.   1.   1.   0. 116.]\n",
            " [  7.  39.  21.   4.  16.   3.   6.   3.   1.]\n",
            " [ 11.  60.  16.   4.  13.   8.  27.   2.  17.]\n",
            " [  8.   6.  20. 107.   1.   8.  16.   0.   1.]\n",
            " [ 11.  17.  15.   0.  40.   6.  78.   7.   0.]\n",
            " [ 18.   3.  65.  40.  13.  15.  14.   3.   1.]\n",
            " [ 63.   7.  45.  11.   2.  42.   7.   1.   1.]\n",
            " [ 27.   0.   6.   0.   4.  61.   1.  61.   1.]]\n"
          ],
          "name": "stdout"
        }
      ]
    },
    {
      "cell_type": "code",
      "metadata": {
        "id": "4VOxWCCG4VM5",
        "colab_type": "code",
        "colab": {
          "base_uri": "https://localhost:8080/",
          "height": 174
        },
        "outputId": "be43b75e-9f88-43c4-c191-95e51d2f1b98"
      },
      "source": [
        "dic_id2cat\n"
      ],
      "execution_count": 32,
      "outputs": [
        {
          "output_type": "execute_result",
          "data": {
            "text/plain": [
              "{0: 'sports-watch',\n",
              " 1: 'dokujo-tsushin',\n",
              " 2: 'livedoor-homme',\n",
              " 3: 'peachy',\n",
              " 4: 'smax',\n",
              " 5: 'movie-enter',\n",
              " 6: 'it-life-hack',\n",
              " 7: 'kaden-channel',\n",
              " 8: 'topic-news'}"
            ]
          },
          "metadata": {
            "tags": []
          },
          "execution_count": 32
        }
      ]
    },
    {
      "cell_type": "code",
      "metadata": {
        "id": "uCc4YyVLH3JW",
        "colab_type": "code",
        "colab": {
          "base_uri": "https://localhost:8080/",
          "height": 196
        },
        "outputId": "54a50c03-b31d-4ea4-8ff9-aab327bafc24"
      },
      "source": [
        "# クラスタの結果を確認\n",
        "#「sports-watch」の5番目のクラスタの文章、7番目のクラスタの文章\n",
        "#「topic-news」の5番目のクラスタの文章、7番目のクラスタの文章\n",
        "# を確認して、クラスタ5とクラスタ7の特徴を見てみます。\n",
        "\n",
        "import pandas as pd\n",
        "\n",
        "df2 = pd.DataFrame(output_list)\n",
        "df2.columns=[\"正解クラス\", \"推定クラスタ\"]\n",
        "df2.head()"
      ],
      "execution_count": 33,
      "outputs": [
        {
          "output_type": "execute_result",
          "data": {
            "text/html": [
              "<div>\n",
              "<style scoped>\n",
              "    .dataframe tbody tr th:only-of-type {\n",
              "        vertical-align: middle;\n",
              "    }\n",
              "\n",
              "    .dataframe tbody tr th {\n",
              "        vertical-align: top;\n",
              "    }\n",
              "\n",
              "    .dataframe thead th {\n",
              "        text-align: right;\n",
              "    }\n",
              "</style>\n",
              "<table border=\"1\" class=\"dataframe\">\n",
              "  <thead>\n",
              "    <tr style=\"text-align: right;\">\n",
              "      <th></th>\n",
              "      <th>正解クラス</th>\n",
              "      <th>推定クラスタ</th>\n",
              "    </tr>\n",
              "  </thead>\n",
              "  <tbody>\n",
              "    <tr>\n",
              "      <th>0</th>\n",
              "      <td>5.0</td>\n",
              "      <td>6.0</td>\n",
              "    </tr>\n",
              "    <tr>\n",
              "      <th>1</th>\n",
              "      <td>6.0</td>\n",
              "      <td>0.0</td>\n",
              "    </tr>\n",
              "    <tr>\n",
              "      <th>2</th>\n",
              "      <td>3.0</td>\n",
              "      <td>2.0</td>\n",
              "    </tr>\n",
              "    <tr>\n",
              "      <th>3</th>\n",
              "      <td>6.0</td>\n",
              "      <td>0.0</td>\n",
              "    </tr>\n",
              "    <tr>\n",
              "      <th>4</th>\n",
              "      <td>5.0</td>\n",
              "      <td>6.0</td>\n",
              "    </tr>\n",
              "  </tbody>\n",
              "</table>\n",
              "</div>"
            ],
            "text/plain": [
              "   正解クラス  推定クラスタ\n",
              "0    5.0     6.0\n",
              "1    6.0     0.0\n",
              "2    3.0     2.0\n",
              "3    6.0     0.0\n",
              "4    5.0     6.0"
            ]
          },
          "metadata": {
            "tags": []
          },
          "execution_count": 33
        }
      ]
    },
    {
      "cell_type": "code",
      "metadata": {
        "id": "UMeY6zIIKpPT",
        "colab_type": "code",
        "colab": {
          "base_uri": "https://localhost:8080/",
          "height": 196
        },
        "outputId": "db3f7f3e-8a37-42bb-d853-4707ebdb44dc"
      },
      "source": [
        "df2[(df2['正解クラス']==0) & (df2['推定クラスタ']==5)].head()"
      ],
      "execution_count": 34,
      "outputs": [
        {
          "output_type": "execute_result",
          "data": {
            "text/html": [
              "<div>\n",
              "<style scoped>\n",
              "    .dataframe tbody tr th:only-of-type {\n",
              "        vertical-align: middle;\n",
              "    }\n",
              "\n",
              "    .dataframe tbody tr th {\n",
              "        vertical-align: top;\n",
              "    }\n",
              "\n",
              "    .dataframe thead th {\n",
              "        text-align: right;\n",
              "    }\n",
              "</style>\n",
              "<table border=\"1\" class=\"dataframe\">\n",
              "  <thead>\n",
              "    <tr style=\"text-align: right;\">\n",
              "      <th></th>\n",
              "      <th>正解クラス</th>\n",
              "      <th>推定クラスタ</th>\n",
              "    </tr>\n",
              "  </thead>\n",
              "  <tbody>\n",
              "    <tr>\n",
              "      <th>21</th>\n",
              "      <td>0.0</td>\n",
              "      <td>5.0</td>\n",
              "    </tr>\n",
              "    <tr>\n",
              "      <th>59</th>\n",
              "      <td>0.0</td>\n",
              "      <td>5.0</td>\n",
              "    </tr>\n",
              "    <tr>\n",
              "      <th>126</th>\n",
              "      <td>0.0</td>\n",
              "      <td>5.0</td>\n",
              "    </tr>\n",
              "    <tr>\n",
              "      <th>142</th>\n",
              "      <td>0.0</td>\n",
              "      <td>5.0</td>\n",
              "    </tr>\n",
              "    <tr>\n",
              "      <th>153</th>\n",
              "      <td>0.0</td>\n",
              "      <td>5.0</td>\n",
              "    </tr>\n",
              "  </tbody>\n",
              "</table>\n",
              "</div>"
            ],
            "text/plain": [
              "     正解クラス  推定クラスタ\n",
              "21     0.0     5.0\n",
              "59     0.0     5.0\n",
              "126    0.0     5.0\n",
              "142    0.0     5.0\n",
              "153    0.0     5.0"
            ]
          },
          "metadata": {
            "tags": []
          },
          "execution_count": 34
        }
      ]
    },
    {
      "cell_type": "code",
      "metadata": {
        "id": "8cZdu5D-MClM",
        "colab_type": "code",
        "colab": {
          "base_uri": "https://localhost:8080/",
          "height": 72
        },
        "outputId": "5cba03ab-2712-4455-df34-4cff9275d9ff"
      },
      "source": [
        "# dfに元文書を入れている。300文字ほど見る。\n",
        "print(df.iloc[21, 0][:300])\n",
        "print(df.iloc[59, 0][:300])\n"
      ],
      "execution_count": 41,
      "outputs": [
        {
          "output_type": "stream",
          "text": [
            "先月29日、プロレスラーで、その引退後は、選手育成や解説者、レフェリーとしてファンに愛された山本小鉄さんが低酸素脳症で急逝、ファン＆関係者に深い悲しみを与えた。そんな折、今週7日発売の「週刊アサヒ芸能」は、「NEWS SHOT!」のコーナーにおいて、山本さんの“死去直前”の豪傑ぶりをうかがわせる驚くべき行動を報じた。同誌にコメントを寄せた、元週刊プロレス編集長・ターザン山本氏は、「身長170センチに体重113キロの体は、いまだに現役時代を彷彿とさせる筋肉を維持していました。若手同様の過酷なトレーニングをし、68歳とは思えぬ食欲でしたが、実は山本さんは糖尿病だったんです」と明かし、また、先月行わ\n",
            "豪メディア「world wide of sports」は24日、全豪オープンで日本男子80年ぶりのベスト8進出を果たした錦織圭(にしこり・けい)のインタビューを掲載した。その中で錦織は、ベスト8進出について「初めてのベスト8で、ステップアップした気持ちでいる。だけどプレッシャーは感じていない」とコメント。また対戦相手のアンディ・マレーについては、「リスペクトしているが、彼を倒せるよう頑張る」と話している。ただ、錦織の対戦相手であるマレーは難敵だ。錦織は22歳と若いが、マレーもまだ24歳と若手の部類に入る。そしてマレーは、2008年から現在まで4大大会にて3度の準優勝、現ATPマスターズ1000\n"
          ],
          "name": "stdout"
        }
      ]
    },
    {
      "cell_type": "code",
      "metadata": {
        "id": "inah7FkKOjGD",
        "colab_type": "code",
        "colab": {
          "base_uri": "https://localhost:8080/",
          "height": 107
        },
        "outputId": "8e33a9d9-6d82-49c3-bfa6-3295b8adc512"
      },
      "source": [
        "df2[(df2['正解クラス']==0) & (df2['推定クラスタ']==7)].head(2)"
      ],
      "execution_count": 45,
      "outputs": [
        {
          "output_type": "execute_result",
          "data": {
            "text/html": [
              "<div>\n",
              "<style scoped>\n",
              "    .dataframe tbody tr th:only-of-type {\n",
              "        vertical-align: middle;\n",
              "    }\n",
              "\n",
              "    .dataframe tbody tr th {\n",
              "        vertical-align: top;\n",
              "    }\n",
              "\n",
              "    .dataframe thead th {\n",
              "        text-align: right;\n",
              "    }\n",
              "</style>\n",
              "<table border=\"1\" class=\"dataframe\">\n",
              "  <thead>\n",
              "    <tr style=\"text-align: right;\">\n",
              "      <th></th>\n",
              "      <th>正解クラス</th>\n",
              "      <th>推定クラスタ</th>\n",
              "    </tr>\n",
              "  </thead>\n",
              "  <tbody>\n",
              "    <tr>\n",
              "      <th>14</th>\n",
              "      <td>0.0</td>\n",
              "      <td>7.0</td>\n",
              "    </tr>\n",
              "    <tr>\n",
              "      <th>18</th>\n",
              "      <td>0.0</td>\n",
              "      <td>7.0</td>\n",
              "    </tr>\n",
              "  </tbody>\n",
              "</table>\n",
              "</div>"
            ],
            "text/plain": [
              "    正解クラス  推定クラスタ\n",
              "14    0.0     7.0\n",
              "18    0.0     7.0"
            ]
          },
          "metadata": {
            "tags": []
          },
          "execution_count": 45
        }
      ]
    },
    {
      "cell_type": "code",
      "metadata": {
        "id": "Pmyvw1rIOo9h",
        "colab_type": "code",
        "colab": {
          "base_uri": "https://localhost:8080/",
          "height": 72
        },
        "outputId": "ab454af9-220e-43e9-a575-753a96b4b4dd"
      },
      "source": [
        "# dfに元文書を入れている。300文字ほど見る。\n",
        "print(df.iloc[14, 0][:300])\n",
        "print(df.iloc[18, 0][:300])"
      ],
      "execution_count": 47,
      "outputs": [
        {
          "output_type": "stream",
          "text": [
            "「あれで全てが狂った」「ピッチャーのことは触ったこともない」「誰も信用してない」など、とにかく衝撃的な言葉が相次ぎ飛び出した中日ドラゴンズ元監督・落合博満氏のインタビュー。日本テレビ「Going! Sports＆News」では、野球解説者の江川卓氏が聞き手となり、その模様は二夜（17日、18日）に渡って放送された。初回放送分では、「来年ユニフォーム着るってなったら、ここまでは喋らない」とまでいい、知られざるエピソードを明かした落合氏だったが、後編の放送は、これを上回るといっていい更に驚くべき内容となった。以下にインタビューの要約を掲載する。江川：今年は日本一になれると思っていた？思っていなかっ\n",
            "4日放送、TBS「S1」では、「Weeklyストーブ 猛虎がMLBを語る」と題し、阪神タイガース3選手＝金本知憲、新井貴浩、鳥谷敬の座談会の模様が放送された。冒頭、「全て新井を中心に世界が回っているんで」と、新井を持ち上げた“アニキ”金本だったが、「（新井の）通信簿を付けるとしたら？」と訊かれるや一転、「55点。打率も3割1分から2割6分台、最後。4番ですからね」と厳しく言い放つ。また、海外FA権の取得について、新井は「実際、無理ですね。僕みたいなタイプはまず通じないですね。松井（秀喜）さんでも、ああいう感じですよ。年間50本くらいホームラン打つパワーヒッターですよね」と語り、鳥谷が「自分は何\n"
          ],
          "name": "stdout"
        }
      ]
    },
    {
      "cell_type": "code",
      "metadata": {
        "id": "j38ZwfvuO3lC",
        "colab_type": "code",
        "colab": {
          "base_uri": "https://localhost:8080/",
          "height": 107
        },
        "outputId": "df0e1247-9f5d-4aea-b258-13ac87e56d30"
      },
      "source": [
        "df2[(df2['正解クラス']==8) & (df2['推定クラスタ']==5)].head(2)"
      ],
      "execution_count": 49,
      "outputs": [
        {
          "output_type": "execute_result",
          "data": {
            "text/html": [
              "<div>\n",
              "<style scoped>\n",
              "    .dataframe tbody tr th:only-of-type {\n",
              "        vertical-align: middle;\n",
              "    }\n",
              "\n",
              "    .dataframe tbody tr th {\n",
              "        vertical-align: top;\n",
              "    }\n",
              "\n",
              "    .dataframe thead th {\n",
              "        text-align: right;\n",
              "    }\n",
              "</style>\n",
              "<table border=\"1\" class=\"dataframe\">\n",
              "  <thead>\n",
              "    <tr style=\"text-align: right;\">\n",
              "      <th></th>\n",
              "      <th>正解クラス</th>\n",
              "      <th>推定クラスタ</th>\n",
              "    </tr>\n",
              "  </thead>\n",
              "  <tbody>\n",
              "    <tr>\n",
              "      <th>7</th>\n",
              "      <td>8.0</td>\n",
              "      <td>5.0</td>\n",
              "    </tr>\n",
              "    <tr>\n",
              "      <th>55</th>\n",
              "      <td>8.0</td>\n",
              "      <td>5.0</td>\n",
              "    </tr>\n",
              "  </tbody>\n",
              "</table>\n",
              "</div>"
            ],
            "text/plain": [
              "    正解クラス  推定クラスタ\n",
              "7     8.0     5.0\n",
              "55    8.0     5.0"
            ]
          },
          "metadata": {
            "tags": []
          },
          "execution_count": 49
        }
      ]
    },
    {
      "cell_type": "code",
      "metadata": {
        "id": "s_EFqTeyPCwy",
        "colab_type": "code",
        "colab": {
          "base_uri": "https://localhost:8080/",
          "height": 72
        },
        "outputId": "95dc0d50-eb45-4ed6-e4ab-2efeec1afb5a"
      },
      "source": [
        "# dfに元文書を入れている。300文字ほど見る。\n",
        "print(df.iloc[7, 0][:300])\n",
        "print(df.iloc[55, 0][:300])"
      ],
      "execution_count": 50,
      "outputs": [
        {
          "output_type": "stream",
          "text": [
            "韓国では一般的に僧侶は独身であることが原則となっているが、「異性からモテず、絶望し出家を決意した」と語る僧侶のFacebookが韓国のネット掲示板で話題になっている。ヒョボンという名前のこの僧侶は、19日、Facebookで「20代の私は異性に人気がありませんでした。（中略）結局どうしようもないという結論に至り、出家を決心しました。皆さんも諦めて出家しなさい。今になって考えれば若いころ、ラップやパンクをすべきだった」と、僧侶になった背景を語っている。また、僧侶生活に関しては「早く出家するほど偉くなるのも早い。偉くなったらご飯と洗濯を悩まなくてもいい」とも語り、ほかにも「アイドルのPVはセクシー\n",
            "野田首相が10月19日、ソウルで行われた李明博（イミョンバク）大統領との会談にて、韓国への資金支援枠を現行130億ドルの5倍以上の、700億ドル（約5兆3600億円）で拡大する合意をまとめた。韓国大手メディアでは、この日韓の通貨スワップが長期的にウォンの上昇への圧力につながると報道しているものの、あくまで大統領府で首脳会談のひとつとして取り上げたのみ。むしろ李大統領が「歴史の認識を忘れず未来に進むべき」などと野田首相に伝達したことを大きく取り上げている。一方日本では、日韓スワップについてネット上で賛否両論が繰り広げられた。「韓国の外貨不足で日本企業の輸出分の代金回収が出来ず、日本企業の連鎖倒産\n"
          ],
          "name": "stdout"
        }
      ]
    },
    {
      "cell_type": "code",
      "metadata": {
        "id": "Tc6hzsl4PC1J",
        "colab_type": "code",
        "colab": {
          "base_uri": "https://localhost:8080/",
          "height": 107
        },
        "outputId": "2d05073d-c954-4ff2-bdd6-a5c695d52d8d"
      },
      "source": [
        "df2[(df2['正解クラス']==8) & (df2['推定クラスタ']==7)].head(2)"
      ],
      "execution_count": 51,
      "outputs": [
        {
          "output_type": "execute_result",
          "data": {
            "text/html": [
              "<div>\n",
              "<style scoped>\n",
              "    .dataframe tbody tr th:only-of-type {\n",
              "        vertical-align: middle;\n",
              "    }\n",
              "\n",
              "    .dataframe tbody tr th {\n",
              "        vertical-align: top;\n",
              "    }\n",
              "\n",
              "    .dataframe thead th {\n",
              "        text-align: right;\n",
              "    }\n",
              "</style>\n",
              "<table border=\"1\" class=\"dataframe\">\n",
              "  <thead>\n",
              "    <tr style=\"text-align: right;\">\n",
              "      <th></th>\n",
              "      <th>正解クラス</th>\n",
              "      <th>推定クラスタ</th>\n",
              "    </tr>\n",
              "  </thead>\n",
              "  <tbody>\n",
              "    <tr>\n",
              "      <th>71</th>\n",
              "      <td>8.0</td>\n",
              "      <td>7.0</td>\n",
              "    </tr>\n",
              "    <tr>\n",
              "      <th>76</th>\n",
              "      <td>8.0</td>\n",
              "      <td>7.0</td>\n",
              "    </tr>\n",
              "  </tbody>\n",
              "</table>\n",
              "</div>"
            ],
            "text/plain": [
              "    正解クラス  推定クラスタ\n",
              "71    8.0     7.0\n",
              "76    8.0     7.0"
            ]
          },
          "metadata": {
            "tags": []
          },
          "execution_count": 51
        }
      ]
    },
    {
      "cell_type": "code",
      "metadata": {
        "id": "pCTytj5TPC4d",
        "colab_type": "code",
        "colab": {
          "base_uri": "https://localhost:8080/",
          "height": 72
        },
        "outputId": "6e4b6bfa-9fae-4e58-8d42-d8e1c704af7c"
      },
      "source": [
        "# dfに元文書を入れている。300文字ほど見る。\n",
        "print(df.iloc[71, 0][:300])\n",
        "print(df.iloc[76, 0][:300])"
      ],
      "execution_count": 52,
      "outputs": [
        {
          "output_type": "stream",
          "text": [
            "18日、日本経済新聞が「被災地もう一つの異常事態 復興特需・原発賠償金・・・マネー流入ゆがむ再生」と題した記事で被災地の歪んだ現実を報じ、ネット掲示板で物議を醸している。同記事では、賠償を受ける対象の家族が五人家族であれば月80万円が懐に入ると指摘し、「東電から金もらって、働かなくてもパチンコしたり、すし食ったりスマホとかばんばん新しくしている」という現地の人の言葉を掲載。この被災者に流れる賠償金とその使い方を「ゆがむ再生」として位置づけている。ネット掲示板では「一切募金しなかったおれに死角はなかったな」「震災さまさまやな」「スマホと寿司は消費だからかまわんのだが、パチンコはダメだって・・・。\n",
            "今月14日に発売された「週刊文春」（6月21日号）では、AKB48・指原莉乃の元カレを名乗る男性が、交際内容を暴露。指原は翌日の『AKB48のオールナイトニッポン』に生出演し、騒動の釈明と謝罪を行ったが、秋元康氏は、彼女にHKT48への移籍を伝えた。騒動から約2週間——。26日放送のTBS『火曜曲！』では、中居正広が仕掛け人となり、指原本人には生放送と伝えずにその胸中を吐露させるドッキリが行われた。「俺、何にも知らないんだけど」という中居の言葉ではじまった指原とのやり取り。彼女が語った内容とは？以下、指原のコメント（要約）（転勤？）そうです。あの、説明させて頂くと。ちゃんと話した方がいいと思っ\n"
          ],
          "name": "stdout"
        }
      ]
    },
    {
      "cell_type": "markdown",
      "metadata": {
        "id": "U1hvCYcuRLzF",
        "colab_type": "text"
      },
      "source": [
        "文章を見ただけでは、あまり特徴は分かりませんね。。。\n",
        "\n",
        "ただ、スポーツとニュースは、記事の雰囲気がとても似ていることは分かります。\n",
        "\n",
        "これ以上に、IICされたクラスタの特徴をきちんと把握するには、\n",
        "\n",
        "- wordcloudで単語の頻度の傾向を見てみる\n",
        "- クラスタ文書の全ベクトルをいじいじして、なんらかクラスタのベクトルを作って、代表文書を決めたり近い単語を出す\n",
        "\n",
        "などの操作が考えられます。"
      ]
    },
    {
      "cell_type": "markdown",
      "metadata": {
        "colab_type": "text",
        "id": "8Y37pHqN2YD0"
      },
      "source": [
        "以上。"
      ]
    }
  ]
}